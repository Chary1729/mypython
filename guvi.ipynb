{
  "nbformat": 4,
  "nbformat_minor": 0,
  "metadata": {
    "colab": {
      "name": "guvi.ipynb",
      "version": "0.3.2",
      "provenance": [],
      "include_colab_link": true
    },
    "kernelspec": {
      "name": "python3",
      "display_name": "Python 3"
    }
  },
  "cells": [
    {
      "cell_type": "markdown",
      "metadata": {
        "id": "view-in-github",
        "colab_type": "text"
      },
      "source": [
        "<a href=\"https://colab.research.google.com/github/Chary1729/mypython/blob/master/guvi.ipynb\" target=\"_parent\"><img src=\"https://colab.research.google.com/assets/colab-badge.svg\" alt=\"Open In Colab\"/></a>"
      ]
    },
    {
      "metadata": {
        "id": "RrpvCWq5paKB",
        "colab_type": "code",
        "outputId": "5bfa31cd-818a-4964-c9ee-dde9ccd3f53d",
        "colab": {
          "base_uri": "https://localhost:8080/",
          "height": 283
        }
      },
      "cell_type": "code",
      "source": [
        "list1=[]\n",
        "list2=[]\n",
        "list3=[]\n",
        "list5=[]\n",
        "x=int(input())\n",
        "y=int(input())\n",
        "z=int(input())\n",
        "for i in x:\n",
        "  if(x.isdigit()==True):\n",
        "    list1.append(i)\n",
        "  else:\n",
        "    print(\"give valid values to first row\")\n",
        "for j in y:\n",
        "  if(y.isdigit()==True):\n",
        "    list2.append(j)\n",
        "  else:\n",
        "    print(\"give valid values to second row\")\n",
        "for k in z:\n",
        "  if(z.isdigit()==True):\n",
        "    list3.append(k)\n",
        "  else:\n",
        "    print(\"give valid values to third row\")\n",
        "    list3.append(k)\n",
        "list5.append(list1)\n",
        "list5.append(list2)\n",
        "list5.append(list3)\n",
        "\n",
        "print(\"our matrix with three lists inside\",list5)"
      ],
      "execution_count": 0,
      "outputs": [
        {
          "output_type": "stream",
          "text": [
            "1\n",
            "2\n",
            "2\n"
          ],
          "name": "stdout"
        },
        {
          "output_type": "error",
          "ename": "TypeError",
          "evalue": "ignored",
          "traceback": [
            "\u001b[0;31m---------------------------------------------------------------------------\u001b[0m",
            "\u001b[0;31mTypeError\u001b[0m                                 Traceback (most recent call last)",
            "\u001b[0;32m<ipython-input-22-66a0a8b328b8>\u001b[0m in \u001b[0;36m<module>\u001b[0;34m()\u001b[0m\n\u001b[1;32m      6\u001b[0m \u001b[0my\u001b[0m\u001b[0;34m=\u001b[0m\u001b[0mint\u001b[0m\u001b[0;34m(\u001b[0m\u001b[0minput\u001b[0m\u001b[0;34m(\u001b[0m\u001b[0;34m)\u001b[0m\u001b[0;34m)\u001b[0m\u001b[0;34m\u001b[0m\u001b[0;34m\u001b[0m\u001b[0m\n\u001b[1;32m      7\u001b[0m \u001b[0mz\u001b[0m\u001b[0;34m=\u001b[0m\u001b[0mint\u001b[0m\u001b[0;34m(\u001b[0m\u001b[0minput\u001b[0m\u001b[0;34m(\u001b[0m\u001b[0;34m)\u001b[0m\u001b[0;34m)\u001b[0m\u001b[0;34m\u001b[0m\u001b[0;34m\u001b[0m\u001b[0m\n\u001b[0;32m----> 8\u001b[0;31m \u001b[0;32mfor\u001b[0m \u001b[0mi\u001b[0m \u001b[0;32min\u001b[0m \u001b[0mx\u001b[0m\u001b[0;34m:\u001b[0m\u001b[0;34m\u001b[0m\u001b[0;34m\u001b[0m\u001b[0m\n\u001b[0m\u001b[1;32m      9\u001b[0m   \u001b[0;32mif\u001b[0m\u001b[0;34m(\u001b[0m\u001b[0mx\u001b[0m\u001b[0;34m.\u001b[0m\u001b[0misdigit\u001b[0m\u001b[0;34m(\u001b[0m\u001b[0;34m)\u001b[0m\u001b[0;34m==\u001b[0m\u001b[0;32mTrue\u001b[0m\u001b[0;34m)\u001b[0m\u001b[0;34m:\u001b[0m\u001b[0;34m\u001b[0m\u001b[0;34m\u001b[0m\u001b[0m\n\u001b[1;32m     10\u001b[0m     \u001b[0mlist1\u001b[0m\u001b[0;34m.\u001b[0m\u001b[0mappend\u001b[0m\u001b[0;34m(\u001b[0m\u001b[0mi\u001b[0m\u001b[0;34m)\u001b[0m\u001b[0;34m\u001b[0m\u001b[0;34m\u001b[0m\u001b[0m\n",
            "\u001b[0;31mTypeError\u001b[0m: 'int' object is not iterable"
          ]
        }
      ]
    },
    {
      "metadata": {
        "id": "Gf33b9pQpdh-",
        "colab_type": "code",
        "outputId": "99589396-b367-4630-db16-2c49e0715274",
        "colab": {
          "base_uri": "https://localhost:8080/",
          "height": 34
        }
      },
      "cell_type": "code",
      "source": [
        "list9=[]\n",
        "x=range(3)\n",
        "\n",
        "for i in x:\n",
        "  list9.append(i)\n",
        "\n",
        "print(list9)"
      ],
      "execution_count": 0,
      "outputs": [
        {
          "output_type": "stream",
          "text": [
            "[0, 1, 2]\n"
          ],
          "name": "stdout"
        }
      ]
    },
    {
      "metadata": {
        "id": "i6h-aISnrWAe",
        "colab_type": "code",
        "outputId": "0cf860a2-699d-4ebd-8102-eb9694ac5eae",
        "colab": {
          "base_uri": "https://localhost:8080/",
          "height": 119
        }
      },
      "cell_type": "code",
      "source": [
        "x=input()\n",
        "for i in x:\n",
        "  if(x.isdigit()==True):\n",
        "    print(i)\n",
        "  else:\n",
        "    print(\"none\")"
      ],
      "execution_count": 0,
      "outputs": [
        {
          "output_type": "stream",
          "text": [
            "12345\n",
            "1\n",
            "2\n",
            "3\n",
            "4\n",
            "5\n"
          ],
          "name": "stdout"
        }
      ]
    },
    {
      "metadata": {
        "id": "KHxxjYWlthGW",
        "colab_type": "code",
        "outputId": "031734af-0e18-4df6-d5ba-2815bb773942",
        "colab": {
          "base_uri": "https://localhost:8080/",
          "height": 215
        }
      },
      "cell_type": "code",
      "source": [
        "x=int(input())\n",
        "x.iter()\n",
        "print(x)"
      ],
      "execution_count": 0,
      "outputs": [
        {
          "output_type": "stream",
          "text": [
            "123\n"
          ],
          "name": "stdout"
        },
        {
          "output_type": "error",
          "ename": "AttributeError",
          "evalue": "ignored",
          "traceback": [
            "\u001b[0;31m---------------------------------------------------------------------------\u001b[0m",
            "\u001b[0;31mAttributeError\u001b[0m                            Traceback (most recent call last)",
            "\u001b[0;32m<ipython-input-23-39252340c855>\u001b[0m in \u001b[0;36m<module>\u001b[0;34m()\u001b[0m\n\u001b[1;32m      1\u001b[0m \u001b[0mx\u001b[0m\u001b[0;34m=\u001b[0m\u001b[0mint\u001b[0m\u001b[0;34m(\u001b[0m\u001b[0minput\u001b[0m\u001b[0;34m(\u001b[0m\u001b[0;34m)\u001b[0m\u001b[0;34m)\u001b[0m\u001b[0;34m\u001b[0m\u001b[0;34m\u001b[0m\u001b[0m\n\u001b[0;32m----> 2\u001b[0;31m \u001b[0mx\u001b[0m\u001b[0;34m.\u001b[0m\u001b[0miter\u001b[0m\u001b[0;34m(\u001b[0m\u001b[0;34m)\u001b[0m\u001b[0;34m\u001b[0m\u001b[0;34m\u001b[0m\u001b[0m\n\u001b[0m\u001b[1;32m      3\u001b[0m \u001b[0mprint\u001b[0m\u001b[0;34m(\u001b[0m\u001b[0mx\u001b[0m\u001b[0;34m)\u001b[0m\u001b[0;34m\u001b[0m\u001b[0;34m\u001b[0m\u001b[0m\n",
            "\u001b[0;31mAttributeError\u001b[0m: 'int' object has no attribute 'iter'"
          ]
        }
      ]
    },
    {
      "metadata": {
        "id": "F-DmHiISxLlo",
        "colab_type": "code",
        "colab": {}
      },
      "cell_type": "code",
      "source": [
        "lists=[1,2,3,4,5,6]"
      ],
      "execution_count": 0,
      "outputs": []
    },
    {
      "metadata": {
        "id": "J0FdySZdzus4",
        "colab_type": "code",
        "colab": {}
      },
      "cell_type": "code",
      "source": [
        "my_iter=iter(lists)"
      ],
      "execution_count": 0,
      "outputs": []
    },
    {
      "metadata": {
        "id": "9Ij3lqJEz3xI",
        "colab_type": "code",
        "outputId": "25caf1b8-ed1a-422d-a424-6481b064b7a4",
        "colab": {
          "base_uri": "https://localhost:8080/",
          "height": 34
        }
      },
      "cell_type": "code",
      "source": [
        "my_iter"
      ],
      "execution_count": 0,
      "outputs": [
        {
          "output_type": "execute_result",
          "data": {
            "text/plain": [
              "<list_iterator at 0x7fe2df2a2978>"
            ]
          },
          "metadata": {
            "tags": []
          },
          "execution_count": 26
        }
      ]
    },
    {
      "metadata": {
        "id": "QhfFvXhZz54v",
        "colab_type": "code",
        "outputId": "190306d6-5dd7-4850-f8bb-0203dc1ab69c",
        "colab": {
          "base_uri": "https://localhost:8080/",
          "height": 34
        }
      },
      "cell_type": "code",
      "source": [
        "y=int(input())\n",
        "if((y%400==0) or(y%4==0)):\n",
        "  print(\"yes\")\n",
        "else:\n",
        "  print(\"no\")"
      ],
      "execution_count": 0,
      "outputs": [
        {
          "output_type": "execute_result",
          "data": {
            "text/plain": [
              "1"
            ]
          },
          "metadata": {
            "tags": []
          },
          "execution_count": 27
        }
      ]
    },
    {
      "metadata": {
        "id": "BtqES6Kxz_a7",
        "colab_type": "code",
        "outputId": "19bd20af-a0ec-4f94-f1dd-13db6eb61e52",
        "colab": {
          "base_uri": "https://localhost:8080/",
          "height": 215
        }
      },
      "cell_type": "code",
      "source": [
        "year = int(input())\n",
        "if (( year%400 == 0)or (( year%4 == 0 ) and ( year%100 != 0))):\n",
        "    print(\"yes\")\n",
        "else:\n",
        "    print(\"no\")"
      ],
      "execution_count": 0,
      "outputs": [
        {
          "output_type": "stream",
          "text": [
            "123\n"
          ],
          "name": "stdout"
        },
        {
          "output_type": "error",
          "ename": "TypeError",
          "evalue": "ignored",
          "traceback": [
            "\u001b[0;31m---------------------------------------------------------------------------\u001b[0m",
            "\u001b[0;31mTypeError\u001b[0m                                 Traceback (most recent call last)",
            "\u001b[0;32m<ipython-input-28-326a82f314f2>\u001b[0m in \u001b[0;36m<module>\u001b[0;34m()\u001b[0m\n\u001b[1;32m      1\u001b[0m \u001b[0mx\u001b[0m\u001b[0;34m=\u001b[0m\u001b[0mint\u001b[0m\u001b[0;34m(\u001b[0m\u001b[0minput\u001b[0m\u001b[0;34m(\u001b[0m\u001b[0;34m)\u001b[0m\u001b[0;34m)\u001b[0m\u001b[0;34m\u001b[0m\u001b[0;34m\u001b[0m\u001b[0m\n\u001b[0;32m----> 2\u001b[0;31m \u001b[0mmy_iters\u001b[0m\u001b[0;34m=\u001b[0m\u001b[0miter\u001b[0m\u001b[0;34m(\u001b[0m\u001b[0mx\u001b[0m\u001b[0;34m)\u001b[0m\u001b[0;34m\u001b[0m\u001b[0;34m\u001b[0m\u001b[0m\n\u001b[0m\u001b[1;32m      3\u001b[0m \u001b[0mnext\u001b[0m\u001b[0;34m(\u001b[0m\u001b[0mmy_iters\u001b[0m\u001b[0;34m)\u001b[0m\u001b[0;34m\u001b[0m\u001b[0;34m\u001b[0m\u001b[0m\n",
            "\u001b[0;31mTypeError\u001b[0m: 'int' object is not iterable"
          ]
        }
      ]
    },
    {
      "metadata": {
        "id": "3f5SxgbU0OQ1",
        "colab_type": "code",
        "outputId": "90c02126-ccc8-4acd-c405-4f2a307d4162",
        "colab": {
          "base_uri": "https://localhost:8080/",
          "height": 85
        }
      },
      "cell_type": "code",
      "source": [
        "x,y,z=int(input()),int(input()),int(input())\n",
        "print(x,y,z)"
      ],
      "execution_count": 0,
      "outputs": [
        {
          "output_type": "stream",
          "text": [
            "3\n",
            "4\n",
            "5\n",
            "3 4 5\n"
          ],
          "name": "stdout"
        }
      ]
    },
    {
      "metadata": {
        "id": "_EV-pdZU2MjP",
        "colab_type": "code",
        "outputId": "8e38ea34-ec7c-4914-c452-499803d8718f",
        "colab": {
          "base_uri": "https://localhost:8080/",
          "height": 85
        }
      },
      "cell_type": "code",
      "source": [
        "x,y,z=int(input()),int(input()),int(input())\n",
        "if((x>y)and(x>z)):\n",
        "   print(x)\n",
        "elif((y>z)and(y>x)):\n",
        "   print(y)\n",
        "else:\n",
        "   print(z)"
      ],
      "execution_count": 0,
      "outputs": [
        {
          "output_type": "stream",
          "text": [
            "3\n",
            "4\n",
            "5\n",
            "5\n"
          ],
          "name": "stdout"
        }
      ]
    },
    {
      "metadata": {
        "id": "H7rgIidZ3Pmx",
        "colab_type": "code",
        "outputId": "35a249c4-eebd-4940-8090-db10aa528943",
        "colab": {
          "base_uri": "https://localhost:8080/",
          "height": 85
        }
      },
      "cell_type": "code",
      "source": [
        "num1,num2,num3 = int(input()), int(input()),int(input())\n",
        "\n",
        " \n",
        "if (num1 > num2) and (num1 > num3):\n",
        "                           print(num1)\n",
        "elif (num2 > num1) and (num2 > num3):\n",
        "                           print(num2)\n",
        "else:\n",
        "                           print(num3)\n",
        "                           "
      ],
      "execution_count": 0,
      "outputs": [
        {
          "output_type": "stream",
          "text": [
            "3\n",
            "4\n",
            "5\n",
            "5\n"
          ],
          "name": "stdout"
        }
      ]
    },
    {
      "metadata": {
        "id": "xus04PwWHBQf",
        "colab_type": "code",
        "outputId": "37055699-0ce3-43a7-e3f2-5cef4fa66e0b",
        "colab": {
          "base_uri": "https://localhost:8080/",
          "height": 51
        }
      },
      "cell_type": "code",
      "source": [
        "print(\"Hello\")\n",
        "print(\"Hello\")"
      ],
      "execution_count": 0,
      "outputs": [
        {
          "output_type": "stream",
          "text": [
            "Hello\n",
            "Hello\n"
          ],
          "name": "stdout"
        }
      ]
    },
    {
      "metadata": {
        "id": "TNIugd2bHTir",
        "colab_type": "code",
        "outputId": "23fcb723-ba81-482f-b9d4-19253ad09e91",
        "colab": {
          "base_uri": "https://localhost:8080/",
          "height": 34
        }
      },
      "cell_type": "code",
      "source": [
        "x=int(input())\n",
        "while(x>0):\n",
        "  if(x==0):\n",
        "    print(\" \")\n",
        "  else:\n",
        "    print(\"Hello\")\n",
        "    x=x-1\n",
        "\n",
        "  "
      ],
      "execution_count": 0,
      "outputs": [
        {
          "output_type": "stream",
          "text": [
            "0\n"
          ],
          "name": "stdout"
        }
      ]
    },
    {
      "metadata": {
        "id": "OUHkOW_sHb_2",
        "colab_type": "code",
        "outputId": "a7c353c1-7aa2-47fa-ca16-7ce1ba334774",
        "colab": {
          "base_uri": "https://localhost:8080/",
          "height": 51
        }
      },
      "cell_type": "code",
      "source": [
        "x=int(input())\n",
        "y=(x*(x+1))/2\n",
        "y=int(y)\n",
        "print(y)"
      ],
      "execution_count": 0,
      "outputs": [
        {
          "output_type": "stream",
          "text": [
            "10\n",
            "55\n"
          ],
          "name": "stdout"
        }
      ]
    },
    {
      "metadata": {
        "id": "PB5cQUEQNUm-",
        "colab_type": "code",
        "colab": {}
      },
      "cell_type": "code",
      "source": [
        "lists=[1,2,3,4,5]"
      ],
      "execution_count": 0,
      "outputs": []
    },
    {
      "metadata": {
        "id": "4MxmfoVKZ5hC",
        "colab_type": "code",
        "outputId": "4b2d582c-4fa3-4834-8296-e778bbe1be69",
        "colab": {
          "base_uri": "https://localhost:8080/",
          "height": 34
        }
      },
      "cell_type": "code",
      "source": [
        "len(lists)"
      ],
      "execution_count": 0,
      "outputs": [
        {
          "output_type": "execute_result",
          "data": {
            "text/plain": [
              "5"
            ]
          },
          "metadata": {
            "tags": []
          },
          "execution_count": 9
        }
      ]
    },
    {
      "metadata": {
        "id": "seNjvLQVaJ_J",
        "colab_type": "code",
        "colab": {}
      },
      "cell_type": "code",
      "source": [
        "my_list=[]\n",
        "len(list)==5\n",
        "sum=0\n",
        "for i in my_list:\n",
        "  my_list.append(i)\n",
        "  if()\n",
        "  "
      ],
      "execution_count": 0,
      "outputs": []
    },
    {
      "metadata": {
        "id": "mw7A3qwqblq3",
        "colab_type": "code",
        "colab": {}
      },
      "cell_type": "code",
      "source": [
        "my_honor=[]\n",
        "n=(len(my_honor)==5)\n",
        "for i in range(0,len(my_honor)):\n",
        "  my_honor.append(i)"
      ],
      "execution_count": 0,
      "outputs": []
    },
    {
      "metadata": {
        "id": "799hVNZ0b5yW",
        "colab_type": "code",
        "outputId": "f0fb8c68-d88e-4d93-a398-871eb9ffee11",
        "colab": {
          "base_uri": "https://localhost:8080/",
          "height": 118
        }
      },
      "cell_type": "code",
      "source": [
        "x,y,z,a,b,f=int(input()),int(input()),int(input()),int(input()),int(input()),int(input())\n",
        "my_honor.append(x)\n",
        "my_honor.append(y)\n",
        "my_honor.append(z)\n",
        "my_honor.append(a)\n",
        "my_honor.append(b)\n",
        "my_honor.append(b)\n",
        "\n",
        "\n"
      ],
      "execution_count": 0,
      "outputs": [
        {
          "output_type": "stream",
          "text": [
            "1\n",
            "2\n",
            "3\n",
            "4\n",
            "5\n",
            "6\n"
          ],
          "name": "stdout"
        }
      ]
    },
    {
      "metadata": {
        "id": "Gh8GiW4peVSO",
        "colab_type": "code",
        "outputId": "7b42a164-5411-498b-d012-5ce016da395b",
        "colab": {
          "base_uri": "https://localhost:8080/",
          "height": 34
        }
      },
      "cell_type": "code",
      "source": [
        "my_honor"
      ],
      "execution_count": 0,
      "outputs": [
        {
          "output_type": "execute_result",
          "data": {
            "text/plain": [
              "[1, 2, 1, 1, 2, 3, 4, 5]"
            ]
          },
          "metadata": {
            "tags": []
          },
          "execution_count": 21
        }
      ]
    },
    {
      "metadata": {
        "id": "IEoH2USqedlu",
        "colab_type": "code",
        "colab": {}
      },
      "cell_type": "code",
      "source": [
        "del my_honor[0:2]"
      ],
      "execution_count": 0,
      "outputs": []
    },
    {
      "metadata": {
        "id": "vNbDgO5ke9es",
        "colab_type": "code",
        "outputId": "7effccf0-b954-4779-afb7-cacf51b46e1f",
        "colab": {
          "base_uri": "https://localhost:8080/",
          "height": 34
        }
      },
      "cell_type": "code",
      "source": [
        "my_honor"
      ],
      "execution_count": 0,
      "outputs": [
        {
          "output_type": "execute_result",
          "data": {
            "text/plain": [
              "[1, 1, 2, 3, 4, 5]"
            ]
          },
          "metadata": {
            "tags": []
          },
          "execution_count": 23
        }
      ]
    },
    {
      "metadata": {
        "id": "WnBEt8Cze_Dk",
        "colab_type": "code",
        "colab": {}
      },
      "cell_type": "code",
      "source": [
        "del my_honor[0]"
      ],
      "execution_count": 0,
      "outputs": []
    },
    {
      "metadata": {
        "id": "bGjmkwaofENt",
        "colab_type": "code",
        "outputId": "ae99861d-0673-493a-b571-675f815aaa83",
        "colab": {
          "base_uri": "https://localhost:8080/",
          "height": 34
        }
      },
      "cell_type": "code",
      "source": [
        "my_honor"
      ],
      "execution_count": 0,
      "outputs": [
        {
          "output_type": "execute_result",
          "data": {
            "text/plain": [
              "[1, 2, 3, 4, 5]"
            ]
          },
          "metadata": {
            "tags": []
          },
          "execution_count": 25
        }
      ]
    },
    {
      "metadata": {
        "id": "GzemngplfFr9",
        "colab_type": "code",
        "outputId": "f5c1fe4a-54a0-4803-a2af-ac59ad88ca60",
        "colab": {
          "base_uri": "https://localhost:8080/",
          "height": 50
        }
      },
      "cell_type": "code",
      "source": [
        "c=int(input())\n",
        "sum=0\n",
        "for i in my_honor[0:c]:\n",
        "  sum=sum+i\n",
        "print(sum)\n",
        "  "
      ],
      "execution_count": 0,
      "outputs": [
        {
          "output_type": "stream",
          "text": [
            "2\n",
            "3\n"
          ],
          "name": "stdout"
        }
      ]
    },
    {
      "metadata": {
        "id": "8b6A8gxAflxP",
        "colab_type": "code",
        "colab": {}
      },
      "cell_type": "code",
      "source": [
        "my_honor=[]\n",
        "len(my_honor)==5=\n",
        "for i in range(0,len(my_honor)):\n",
        "  my_honor.append(i)\n",
        "  \n",
        "x,y,z,a,b=int(input()),int(input()),int(input()),int(input()),int(input())\n",
        "my_honor.append(x)\n",
        "my_honor.append(y)\n",
        "my_honor.append(z)\n",
        "my_honor.append(a)\n",
        "my_honor.append(b)\n",
        "\n",
        "\n"
      ],
      "execution_count": 0,
      "outputs": []
    },
    {
      "metadata": {
        "id": "54eBxWQhiEOp",
        "colab_type": "code",
        "outputId": "ec6e680e-5df0-4428-ccb9-9b7239d8ccd8",
        "colab": {
          "base_uri": "https://localhost:8080/",
          "height": 34
        }
      },
      "cell_type": "code",
      "source": [
        "l=range(2)\n",
        "l\n",
        "\n"
      ],
      "execution_count": 0,
      "outputs": [
        {
          "output_type": "execute_result",
          "data": {
            "text/plain": [
              "range(0, 2)"
            ]
          },
          "metadata": {
            "tags": []
          },
          "execution_count": 44
        }
      ]
    },
    {
      "metadata": {
        "id": "xPwOpcUXi-vC",
        "colab_type": "code",
        "colab": {}
      },
      "cell_type": "code",
      "source": [
        "l.append(1)"
      ],
      "execution_count": 0,
      "outputs": []
    },
    {
      "metadata": {
        "id": "rZbWnLmDjAiy",
        "colab_type": "code",
        "outputId": "48f4d73a-559d-40bf-b23e-6909e39f53d6",
        "colab": {
          "base_uri": "https://localhost:8080/",
          "height": 34
        }
      },
      "cell_type": "code",
      "source": [
        "l"
      ],
      "execution_count": 0,
      "outputs": [
        {
          "output_type": "execute_result",
          "data": {
            "text/plain": [
              "[1]"
            ]
          },
          "metadata": {
            "tags": []
          },
          "execution_count": 38
        }
      ]
    },
    {
      "metadata": {
        "id": "qzaJuA-kjRp4",
        "colab_type": "code",
        "colab": {}
      },
      "cell_type": "code",
      "source": [
        "l.append(2)"
      ],
      "execution_count": 0,
      "outputs": []
    },
    {
      "metadata": {
        "id": "HBP_2bSPjWLm",
        "colab_type": "code",
        "colab": {}
      },
      "cell_type": "code",
      "source": [
        "l.append(3)"
      ],
      "execution_count": 0,
      "outputs": []
    },
    {
      "metadata": {
        "id": "H1BXa39vjYHH",
        "colab_type": "code",
        "colab": {}
      },
      "cell_type": "code",
      "source": [
        "l.append(4)"
      ],
      "execution_count": 0,
      "outputs": []
    },
    {
      "metadata": {
        "id": "jTwYgsjejZ7_",
        "colab_type": "code",
        "outputId": "a7641af3-d48d-42ec-9b52-599594c4fb4d",
        "colab": {
          "base_uri": "https://localhost:8080/",
          "height": 34
        }
      },
      "cell_type": "code",
      "source": [
        "l"
      ],
      "execution_count": 0,
      "outputs": [
        {
          "output_type": "execute_result",
          "data": {
            "text/plain": [
              "[1, 2, 3, 4]"
            ]
          },
          "metadata": {
            "tags": []
          },
          "execution_count": 42
        }
      ]
    },
    {
      "metadata": {
        "id": "qL_OPN-Rjaol",
        "colab_type": "code",
        "outputId": "71b8604b-8011-49e8-dc9f-6fc71a7130ab",
        "colab": {
          "base_uri": "https://localhost:8080/",
          "height": 50
        }
      },
      "cell_type": "code",
      "source": [
        "x=input()\n",
        "count=0\n",
        "for i in x:\n",
        "  count=count+1\n",
        "print(count)"
      ],
      "execution_count": 0,
      "outputs": [
        {
          "output_type": "stream",
          "text": [
            "123\n",
            "3\n"
          ],
          "name": "stdout"
        }
      ]
    },
    {
      "metadata": {
        "id": "GpdLbfm6kJXL",
        "colab_type": "code",
        "outputId": "8325e8e8-e218-4631-c1dd-ab8276638f20",
        "colab": {
          "base_uri": "https://localhost:8080/",
          "height": 101
        }
      },
      "cell_type": "code",
      "source": [
        "N,K=int(input()), int(input())\n",
        "lists=\n",
        "hello_array=[]\n",
        "for i in range(1,N+1):\n",
        "  hello_array.append(i)\n",
        "print(hello_array)\n",
        "sum=0\n",
        "for i in hello_array[0:K]:\n",
        "  sum=sum+i\n",
        "print(sum)\n",
        "  \n",
        "  "
      ],
      "execution_count": 0,
      "outputs": [
        {
          "output_type": "stream",
          "text": [
            "4\n",
            "4\n",
            "4 4\n",
            "[1, 2, 3, 4]\n",
            "10\n"
          ],
          "name": "stdout"
        }
      ]
    },
    {
      "metadata": {
        "id": "XTuGh_XhmPra",
        "colab_type": "code",
        "outputId": "c5a92ebf-3286-4283-a91e-2ee60fb39d33",
        "colab": {
          "base_uri": "https://localhost:8080/",
          "height": 34
        }
      },
      "cell_type": "code",
      "source": [
        "print(N,K)"
      ],
      "execution_count": 0,
      "outputs": [
        {
          "output_type": "stream",
          "text": [
            "5 2\n"
          ],
          "name": "stdout"
        }
      ]
    },
    {
      "metadata": {
        "id": "4FFcBhA2mXN3",
        "colab_type": "code",
        "outputId": "9b1a03ac-a823-45e2-f0d8-ca2018a02163",
        "colab": {
          "base_uri": "https://localhost:8080/",
          "height": 151
        }
      },
      "cell_type": "code",
      "source": [
        "my_honor=[]\n",
        "N,K=int(input()), int(input())\n",
        "x,y,z,a,b=int(input()),int(input()),int(input()),int(input()),int(input())\n",
        "my_honor.append(x)\n",
        "my_honor.append(y)\n",
        "my_honor.append(z)\n",
        "my_honor.append(a)\n",
        "my_honor.append(b)\n",
        "sum=0\n",
        "for i in my_honor[0:K]:\n",
        "  sum=sum+i\n",
        "print(sum)\n",
        "  \n",
        "  "
      ],
      "execution_count": 0,
      "outputs": [
        {
          "output_type": "stream",
          "text": [
            "5\n",
            "2\n",
            "1\n",
            "2\n",
            "3\n",
            "4\n",
            "5\n",
            "3\n"
          ],
          "name": "stdout"
        }
      ]
    },
    {
      "metadata": {
        "id": "yPSUTf_5sgZy",
        "colab_type": "code",
        "outputId": "ec10cd96-a521-4750-b05a-cafdc2a07a14",
        "colab": {
          "base_uri": "https://localhost:8080/",
          "height": 128
        }
      },
      "cell_type": "code",
      "source": [
        "N,k=input().split(' ')\n",
        "if(N.isdigit()==True and k.isdigit()==True):\n",
        "  print(\n",
        "  N=int(N)\n",
        "  k=int(k)\n",
        "  ans=1\n",
        "for i in range(0,k):\n",
        "    ans=ans*N\n",
        "print(ans)"
      ],
      "execution_count": 9,
      "outputs": [
        {
          "output_type": "error",
          "ename": "SyntaxError",
          "evalue": "ignored",
          "traceback": [
            "\u001b[0;36m  File \u001b[0;32m\"<ipython-input-9-ac52de5859ab>\"\u001b[0;36m, line \u001b[0;32m5\u001b[0m\n\u001b[0;31m    k=int(k)\u001b[0m\n\u001b[0m    ^\u001b[0m\n\u001b[0;31mSyntaxError\u001b[0m\u001b[0;31m:\u001b[0m invalid syntax\n"
          ]
        }
      ]
    },
    {
      "metadata": {
        "id": "sVq-NGIrutNj",
        "colab_type": "code",
        "outputId": "1f8b5ef1-1e13-4ec7-ae42-8cb865d3b1f3",
        "colab": {
          "base_uri": "https://localhost:8080/",
          "height": 67
        }
      },
      "cell_type": "code",
      "source": [
        "N,k=input(), input()\n",
        "if(N.isdigit()==True and k.isdigit()==True):\n",
        "  N=int(N)\n",
        "  k=int(k)\n",
        "  ans=1\n",
        "for i in range(0,k):\n",
        "    ans=ans*N\n",
        "print(ans)\n"
      ],
      "execution_count": 0,
      "outputs": [
        {
          "output_type": "stream",
          "text": [
            "5\n",
            "2\n",
            "25\n"
          ],
          "name": "stdout"
        }
      ]
    },
    {
      "metadata": {
        "id": "so_AnVym3NHV",
        "colab_type": "code",
        "colab": {}
      },
      "cell_type": "code",
      "source": [
        "n,k=input(),input()\n",
        "print(n,k)"
      ],
      "execution_count": 0,
      "outputs": []
    },
    {
      "metadata": {
        "id": "IUg0bur44EUA",
        "colab_type": "code",
        "outputId": "eda25a3f-b22a-4483-dd20-cce692414e42",
        "colab": {
          "base_uri": "https://localhost:8080/",
          "height": 84
        }
      },
      "cell_type": "code",
      "source": [
        "n=input()\n",
        "k=input()\n",
        "print(n)\n",
        "print(k)\n"
      ],
      "execution_count": 0,
      "outputs": [
        {
          "output_type": "stream",
          "text": [
            "1\n",
            "2\n",
            "1\n",
            "2\n"
          ],
          "name": "stdout"
        }
      ]
    },
    {
      "metadata": {
        "id": "5kPuey8f4JL9",
        "colab_type": "code",
        "outputId": "434b6aad-b305-4a09-9e58-82e1854361e4",
        "colab": {
          "base_uri": "https://localhost:8080/",
          "height": 128
        }
      },
      "cell_type": "code",
      "source": [
        "inputs = []\n",
        "for i in range(2):  # loop 3 times\n",
        "\tinputs.append(int(input())"
      ],
      "execution_count": 0,
      "outputs": [
        {
          "output_type": "error",
          "ename": "SyntaxError",
          "evalue": "ignored",
          "traceback": [
            "\u001b[0;36m  File \u001b[0;32m\"<ipython-input-92-682881fd2da3>\"\u001b[0;36m, line \u001b[0;32m3\u001b[0m\n\u001b[0;31m    inputs.append(int(input())\u001b[0m\n\u001b[0m                              ^\u001b[0m\n\u001b[0;31mSyntaxError\u001b[0m\u001b[0;31m:\u001b[0m unexpected EOF while parsing\n"
          ]
        }
      ]
    },
    {
      "metadata": {
        "id": "cOEhv-OVR2mz",
        "colab_type": "code",
        "colab": {
          "base_uri": "https://localhost:8080/",
          "height": 34
        },
        "outputId": "094ea5fa-c84c-4319-fbfa-fe0b6f26e96d"
      },
      "cell_type": "code",
      "source": [
        "x=input().split(' ')\n"
      ],
      "execution_count": 7,
      "outputs": [
        {
          "output_type": "stream",
          "text": [
            "a b\n"
          ],
          "name": "stdout"
        }
      ]
    },
    {
      "metadata": {
        "id": "w5oUYvvl6w6R",
        "colab_type": "code",
        "colab": {
          "base_uri": "https://localhost:8080/",
          "height": 50
        },
        "outputId": "3fb1fd49-f66b-4e18-af68-ab3e3ffe0e9e"
      },
      "cell_type": "code",
      "source": [
        "N,k=input().split()\n",
        "if(N.isdigit()==True and k.isdigit()==True):\n",
        "  N=int(N)\n",
        "  k=int(k)\n",
        "  ans=1\n",
        "for i in range(0,k):\n",
        "    ans=ans*N\n",
        "print(ans)\n"
      ],
      "execution_count": 12,
      "outputs": [
        {
          "output_type": "stream",
          "text": [
            "4 5\n",
            "1024\n"
          ],
          "name": "stdout"
        }
      ]
    },
    {
      "metadata": {
        "id": "Ko6sZa3P7DZj",
        "colab_type": "code",
        "colab": {
          "base_uri": "https://localhost:8080/",
          "height": 246
        },
        "outputId": "037c83a6-7ffd-4a11-d92f-8c129f52de04"
      },
      "cell_type": "code",
      "source": [
        "x=int(input())\n",
        "y=x.reverse()\n",
        "if(x==y):\n",
        "  print(\"yes\")\n",
        "else:\n",
        "  print(\"no\")"
      ],
      "execution_count": 14,
      "outputs": [
        {
          "output_type": "stream",
          "text": [
            "121\n"
          ],
          "name": "stdout"
        },
        {
          "output_type": "error",
          "ename": "AttributeError",
          "evalue": "ignored",
          "traceback": [
            "\u001b[0;31m---------------------------------------------------------------------------\u001b[0m",
            "\u001b[0;31mAttributeError\u001b[0m                            Traceback (most recent call last)",
            "\u001b[0;32m<ipython-input-14-e36257048166>\u001b[0m in \u001b[0;36m<module>\u001b[0;34m()\u001b[0m\n\u001b[1;32m      1\u001b[0m \u001b[0mx\u001b[0m\u001b[0;34m=\u001b[0m\u001b[0mint\u001b[0m\u001b[0;34m(\u001b[0m\u001b[0minput\u001b[0m\u001b[0;34m(\u001b[0m\u001b[0;34m)\u001b[0m\u001b[0;34m)\u001b[0m\u001b[0;34m\u001b[0m\u001b[0;34m\u001b[0m\u001b[0m\n\u001b[0;32m----> 2\u001b[0;31m \u001b[0my\u001b[0m\u001b[0;34m=\u001b[0m\u001b[0mx\u001b[0m\u001b[0;34m.\u001b[0m\u001b[0mreverse\u001b[0m\u001b[0;34m(\u001b[0m\u001b[0;34m)\u001b[0m\u001b[0;34m\u001b[0m\u001b[0;34m\u001b[0m\u001b[0m\n\u001b[0m\u001b[1;32m      3\u001b[0m \u001b[0;32mif\u001b[0m\u001b[0;34m(\u001b[0m\u001b[0mx\u001b[0m\u001b[0;34m==\u001b[0m\u001b[0my\u001b[0m\u001b[0;34m)\u001b[0m\u001b[0;34m:\u001b[0m\u001b[0;34m\u001b[0m\u001b[0;34m\u001b[0m\u001b[0m\n\u001b[1;32m      4\u001b[0m   \u001b[0mprint\u001b[0m\u001b[0;34m(\u001b[0m\u001b[0;34m\"yes\"\u001b[0m\u001b[0;34m)\u001b[0m\u001b[0;34m\u001b[0m\u001b[0;34m\u001b[0m\u001b[0m\n\u001b[1;32m      5\u001b[0m \u001b[0;32melse\u001b[0m\u001b[0;34m:\u001b[0m\u001b[0;34m\u001b[0m\u001b[0;34m\u001b[0m\u001b[0m\n",
            "\u001b[0;31mAttributeError\u001b[0m: 'int' object has no attribute 'reverse'"
          ]
        }
      ]
    },
    {
      "metadata": {
        "id": "Jl00keskCdXF",
        "colab_type": "code",
        "colab": {
          "base_uri": "https://localhost:8080/",
          "height": 178
        },
        "outputId": "665aeec1-d9e3-4459-e655-8239f0b42c2a"
      },
      "cell_type": "code",
      "source": [
        "y=123\n",
        "y.reverse()"
      ],
      "execution_count": 18,
      "outputs": [
        {
          "output_type": "error",
          "ename": "AttributeError",
          "evalue": "ignored",
          "traceback": [
            "\u001b[0;31m---------------------------------------------------------------------------\u001b[0m",
            "\u001b[0;31mAttributeError\u001b[0m                            Traceback (most recent call last)",
            "\u001b[0;32m<ipython-input-18-df01a14e7304>\u001b[0m in \u001b[0;36m<module>\u001b[0;34m()\u001b[0m\n\u001b[1;32m      1\u001b[0m \u001b[0my\u001b[0m\u001b[0;34m=\u001b[0m\u001b[0;36m123\u001b[0m\u001b[0;34m\u001b[0m\u001b[0;34m\u001b[0m\u001b[0m\n\u001b[0;32m----> 2\u001b[0;31m \u001b[0my\u001b[0m\u001b[0;34m.\u001b[0m\u001b[0mreverse\u001b[0m\u001b[0;34m(\u001b[0m\u001b[0;34m)\u001b[0m\u001b[0;34m\u001b[0m\u001b[0;34m\u001b[0m\u001b[0m\n\u001b[0m",
            "\u001b[0;31mAttributeError\u001b[0m: 'int' object has no attribute 'reverse'"
          ]
        }
      ]
    },
    {
      "metadata": {
        "id": "HJT4qSVGCn4L",
        "colab_type": "code",
        "colab": {
          "base_uri": "https://localhost:8080/",
          "height": 50
        },
        "outputId": "21f34df6-456c-4dcc-f793-fd6bf56e6d57"
      },
      "cell_type": "code",
      "source": [
        "n=int(input())\n",
        "temp=n\n",
        "rev=0\n",
        "while(n>0):\n",
        "  dig=n%10\n",
        "  rev=rev*10+dig\n",
        "  n=n//10\n",
        "if(temp==rev):\n",
        "    print(\"yes\")\n",
        "else:\n",
        "    print(\"no\")"
      ],
      "execution_count": 23,
      "outputs": [
        {
          "output_type": "stream",
          "text": [
            "1221\n",
            "yes\n"
          ],
          "name": "stdout"
        }
      ]
    },
    {
      "metadata": {
        "id": "oQyjobFnG5Jn",
        "colab_type": "code",
        "colab": {
          "base_uri": "https://localhost:8080/",
          "height": 50
        },
        "outputId": "45fd55a7-94cd-42bb-a6d7-bfb257bec3e6"
      },
      "cell_type": "code",
      "source": [
        "n=int(input())\n",
        "i=1\n",
        "if(n/i==n and n//n==1):\n",
        "  print(\"yes\")\n",
        "else:\n",
        "  print(\"no\")"
      ],
      "execution_count": 27,
      "outputs": [
        {
          "output_type": "stream",
          "text": [
            "1222\n",
            "yes\n"
          ],
          "name": "stdout"
        }
      ]
    },
    {
      "metadata": {
        "id": "SMi_mvKASCjP",
        "colab_type": "code",
        "colab": {
          "base_uri": "https://localhost:8080/",
          "height": 218
        },
        "outputId": "5a64b555-fe94-41af-c6e0-65f38b3ab5b5"
      },
      "cell_type": "code",
      "source": [
        "# taking input from user\n",
        "number = int(input())\n",
        "\n",
        "# prime number is always greater than 1\n",
        "if(number > 1 and number<=1000):\n",
        "  for i in range(2, number):\n",
        "        if (number % i) == 0:\n",
        "            print(\"no\")\n",
        "        elif(number % i)!=0:\n",
        "          print(\"yes\")\n",
        "else:\n",
        "  print(\"no\")"
      ],
      "execution_count": 38,
      "outputs": [
        {
          "output_type": "stream",
          "text": [
            "13\n",
            "yes\n",
            "yes\n",
            "yes\n",
            "yes\n",
            "yes\n",
            "yes\n",
            "yes\n",
            "yes\n",
            "yes\n",
            "yes\n",
            "yes\n"
          ],
          "name": "stdout"
        }
      ]
    },
    {
      "metadata": {
        "id": "SsOOR7atdITa",
        "colab_type": "code",
        "colab": {
          "base_uri": "https://localhost:8080/",
          "height": 50
        },
        "outputId": "5542eea8-4435-41e9-a365-3f6692c7abcd"
      },
      "cell_type": "code",
      "source": [
        "n = int(input())\n",
        "if (n>1 and n<=1000):\n",
        "    for i in range(2, n):\n",
        "        if (n % i) == 0:\n",
        "            print(\"no\")\n",
        "            break\n",
        "    else:\n",
        "        print(\"yes\")\n",
        "else:\n",
        "    print(\"no\")"
      ],
      "execution_count": 52,
      "outputs": [
        {
          "output_type": "stream",
          "text": [
            "1222\n",
            "no\n"
          ],
          "name": "stdout"
        }
      ]
    },
    {
      "metadata": {
        "id": "GUhj6LFjitzN",
        "colab_type": "code",
        "colab": {
          "base_uri": "https://localhost:8080/",
          "height": 50
        },
        "outputId": "27010458-5864-41d6-b9f8-8c50554ea9a5"
      },
      "cell_type": "code",
      "source": [
        "N,k=input().split()\n",
        "if(N.isdigit()==True and k.isdigit()==True):\n",
        "  N=int(N)\n",
        "  k=int(k)\n",
        "  count=0\n",
        "  for i in range(N+1,k):\n",
        "    if(i%2==0):\n",
        "      count=count+1\n",
        "      print(i,end='')"
      ],
      "execution_count": 90,
      "outputs": [
        {
          "output_type": "stream",
          "text": [
            "2 10\n",
            "468"
          ],
          "name": "stdout"
        }
      ]
    },
    {
      "metadata": {
        "id": "UhtFxIQml7aQ",
        "colab_type": "code",
        "colab": {}
      },
      "cell_type": "code",
      "source": [
        "i=[1,2,3,4]"
      ],
      "execution_count": 0,
      "outputs": []
    },
    {
      "metadata": {
        "id": "2cOjrdHLpEfc",
        "colab_type": "code",
        "colab": {
          "base_uri": "https://localhost:8080/",
          "height": 34
        },
        "outputId": "d4490ac6-47f1-4d61-da97-d122d2ee569a"
      },
      "cell_type": "code",
      "source": [
        "for j in i:\n",
        "  print(j,end=' ')"
      ],
      "execution_count": 67,
      "outputs": [
        {
          "output_type": "stream",
          "text": [
            "1 2 3 4 "
          ],
          "name": "stdout"
        }
      ]
    },
    {
      "metadata": {
        "id": "c_nt8db4pGq5",
        "colab_type": "code",
        "colab": {
          "base_uri": "https://localhost:8080/",
          "height": 101
        },
        "outputId": "da2391b1-19a7-4d59-ac8a-8066aeb4a86f"
      },
      "cell_type": "code",
      "source": [
        "N,k=input().split()\n",
        "if(N.isdigit()==True and k.isdigit()==True):\n",
        "  N=int(N)\n",
        "  k=int(k)\n",
        "  count=0\n",
        "  for i in range(N+1,k):\n",
        "    if(i>N and i<k and (i%2)!=0):\n",
        "      count=count+1\n",
        "      print(i)"
      ],
      "execution_count": 86,
      "outputs": [
        {
          "output_type": "stream",
          "text": [
            "8 17\n",
            "9\n",
            "11\n",
            "13\n",
            "15\n"
          ],
          "name": "stdout"
        }
      ]
    },
    {
      "metadata": {
        "id": "EpMpydc8tsWx",
        "colab_type": "code",
        "colab": {
          "base_uri": "https://localhost:8080/",
          "height": 50
        },
        "outputId": "0bf95f66-6549-4152-fd1e-43f90cb8e261"
      },
      "cell_type": "code",
      "source": [
        "N,k=input().split()\n",
        "if(N.isdigit()==True and k.isdigit()==True):\n",
        "  N=int(N)\n",
        "  k=int(k)\n",
        "for val in range(N,k):\n",
        "  if val > 1: \n",
        "       for n in range(2, val): \n",
        "           if (val % n) == 0: \n",
        "               break\n",
        "  else:\n",
        "    print(val) "
      ],
      "execution_count": 96,
      "outputs": [
        {
          "output_type": "stream",
          "text": [
            "1 10\n",
            "1\n"
          ],
          "name": "stdout"
        }
      ]
    },
    {
      "metadata": {
        "id": "bIKEIQ8ux0-8",
        "colab_type": "code",
        "colab": {
          "base_uri": "https://localhost:8080/",
          "height": 50
        },
        "outputId": "e3641aa2-2a48-4041-824c-aace2bd4f491"
      },
      "cell_type": "code",
      "source": [
        "N,k=input().split()\n",
        "if(N.isdigit()==True and k.isdigit()==True):\n",
        "  N=int(N)\n",
        "  k=int(k)\n",
        "for val in range(N+1, k - 1): \n",
        "   if val > 1:\n",
        "      for n in range(2, val):\n",
        "        if (val % n) == 0:\n",
        "          break\n",
        "      else:\n",
        "        print(val,end='_') "
      ],
      "execution_count": 117,
      "outputs": [
        {
          "output_type": "stream",
          "text": [
            "2 10\n",
            "3_5_7_"
          ],
          "name": "stdout"
        }
      ]
    },
    {
      "metadata": {
        "id": "3o9XgJ0Gz-Ya",
        "colab_type": "code",
        "colab": {}
      },
      "cell_type": "code",
      "source": [
        ""
      ],
      "execution_count": 0,
      "outputs": []
    }
  ]
}